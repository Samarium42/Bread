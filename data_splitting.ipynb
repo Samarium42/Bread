{
 "cells": [
  {
   "cell_type": "code",
   "execution_count": 1,
   "metadata": {},
   "outputs": [
    {
     "name": "stderr",
     "output_type": "stream",
     "text": [
      "/var/folders/4r/xyyg405d45b_dbmhstrpwbv80000gn/T/ipykernel_43519/857249385.py:1: DeprecationWarning: \n",
      "Pyarrow will become a required dependency of pandas in the next major release of pandas (pandas 3.0),\n",
      "(to allow more performant data types, such as the Arrow string type, and better interoperability with other libraries)\n",
      "but was not found to be installed on your system.\n",
      "If this would cause problems for you,\n",
      "please provide us feedback at https://github.com/pandas-dev/pandas/issues/54466\n",
      "        \n",
      "  import pandas as pd\n",
      "/opt/homebrew/lib/python3.11/site-packages/numpy/core/fromnumeric.py:59: FutureWarning: 'DataFrame.swapaxes' is deprecated and will be removed in a future version. Please use 'DataFrame.transpose' instead.\n",
      "  return bound(*args, **kwds)\n"
     ]
    }
   ],
   "source": [
    "import pandas as pd\n",
    "\n",
    "# Read the Excel file into a dataframe\n",
    "df = pd.read_excel('Superstore Dataset.xlsx')\n",
    "df.head()\n",
    "\n",
    "\n",
    "import pandas as pd\n",
    "import numpy as np\n",
    "\n",
    "# Load your original DataFrame (assuming you have a DataFrame `df`)\n",
    "\n",
    "# Calculate the number of sets of 100 orders\n",
    "num_sets = len(df) // 100\n",
    "\n",
    "# Ignore the last orders if they cannot form a complete set of 100\n",
    "df = df.iloc[:num_sets * 100]\n",
    "\n",
    "# Randomly shuffle the orders\n",
    "df = df.sample(frac=1, random_state=42)\n",
    "\n",
    "# Split the orders into sets of 100\n",
    "order_sets = np.array_split(df, num_sets)\n",
    "\n",
    "# Create empty DataFrames to store all train and test sets\n",
    "train_df = pd.DataFrame()\n",
    "test_df = pd.DataFrame()\n",
    "\n",
    "# Iterate over each set of 100 orders\n",
    "for i, order_set in enumerate(order_sets):\n",
    "    # Split the set into train and test sets\n",
    "    train_set = order_set.sample(frac=0.7, random_state=42)\n",
    "    test_set = order_set.drop(train_set.index)\n",
    "    \n",
    "    # Append the train set to the train_df DataFrame using pd.concat\n",
    "    train_df = pd.concat([train_df, train_set])\n",
    "    test_df = pd.concat([test_df, test_set])\n",
    "\n",
    "# Save the train and test DataFrames to CSV files\n",
    "train_df.to_csv('train.csv', index=False)\n",
    "test_df.to_csv('test.csv', index=False)\n",
    "\n",
    "train_discounted = train_df[train_df['Discount'] > 0]\n",
    "test_discounted = test_df[test_df['Discount'] > 0]\n",
    "\n",
    "train_discounted.to_csv('train_discounted.csv', index=False)\n",
    "test_discounted.to_csv('test_discounted.csv', index=False)\n",
    "\n",
    "train_not_discounted = train_df[train_df['Discount'] == 0]\n",
    "test_not_discounted = test_df[test_df['Discount'] == 0]\n",
    "\n",
    "train_not_discounted.to_csv('train_not_discounted.csv', index=False)\n",
    "test_not_discounted.to_csv('test_not_discounted.csv', index=False)"
   ]
  }
 ],
 "metadata": {
  "kernelspec": {
   "display_name": "Python 3",
   "language": "python",
   "name": "python3"
  },
  "language_info": {
   "codemirror_mode": {
    "name": "ipython",
    "version": 3
   },
   "file_extension": ".py",
   "mimetype": "text/x-python",
   "name": "python",
   "nbconvert_exporter": "python",
   "pygments_lexer": "ipython3",
   "version": "3.11.5"
  }
 },
 "nbformat": 4,
 "nbformat_minor": 2
}
